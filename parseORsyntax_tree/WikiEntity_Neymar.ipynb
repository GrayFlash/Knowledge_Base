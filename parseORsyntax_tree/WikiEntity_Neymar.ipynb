{
 "cells": [
  {
   "cell_type": "markdown",
   "metadata": {},
   "source": [
    "### We will refer to the wikipedia page of Neymar Jr. (https://en.wikipedia.org/wiki/Neymar)\n",
    "\n",
    "As it may be clear our first Entity (E1) will be :Neymar"
   ]
  },
  {
   "cell_type": "code",
   "execution_count": 1,
   "metadata": {},
   "outputs": [],
   "source": [
    "e1 = ':Neymar'"
   ]
  },
  {
   "cell_type": "markdown",
   "metadata": {},
   "source": [
    "The Second entity are the links of connected articles dbo:wikiPageWikiLink and we can get them for a given Wikipedia page through Sparql query\n",
    "\n",
    "I'll use SPARQLWrapper and rdflib for this purpose. Refer to this Youtube tutorial [here](https://www.youtube.com/watch?v=zdaL6unnv7Y&ab_channel=Patimir)"
   ]
  },
  {
   "cell_type": "code",
   "execution_count": 2,
   "metadata": {},
   "outputs": [],
   "source": [
    "from rdflib import Graph\n",
    "from SPARQLWrapper import SPARQLWrapper, JSON, N3\n",
    "from pprint import pprint"
   ]
  },
  {
   "cell_type": "code",
   "execution_count": 3,
   "metadata": {},
   "outputs": [],
   "source": [
    "sparql = SPARQLWrapper('https://dbpedia.org/sparql')\n",
    "sparql.setQuery('''\n",
    "    select ?linkedEntities \n",
    "    WHERE { \n",
    "    dbr:Neymar dbo:wikiPageWikiLink \n",
    "    ?linkedEntities \n",
    "    .}\n",
    "''')\n",
    "sparql.setReturnFormat(JSON)\n",
    "queries = sparql.query().convert()\n",
    "\n",
    "# pprint(queries)"
   ]
  },
  {
   "cell_type": "code",
   "execution_count": 4,
   "metadata": {},
   "outputs": [],
   "source": [
    "bindings = queries['results']['bindings']\n",
    "e2 = []\n",
    "t = [x['linkedEntities']['value'].split('/')[-1] for x in bindings if x['linkedEntities']['value'].split('/')[-1][0:4] != 'File']\n",
    "for binding in bindings:\n",
    "    uri = binding['linkedEntities']['value']\n",
    "    entity = uri.split('/')[-1]\n",
    "    e2.append(entity)"
   ]
  },
  {
   "cell_type": "code",
   "execution_count": 5,
   "metadata": {},
   "outputs": [
    {
     "data": {
      "text/plain": [
       "519"
      ]
     },
     "execution_count": 5,
     "metadata": {},
     "output_type": "execute_result"
    }
   ],
   "source": [
    "len(e2)"
   ]
  },
  {
   "cell_type": "code",
   "execution_count": 6,
   "metadata": {},
   "outputs": [
    {
     "data": {
      "text/plain": [
       "501"
      ]
     },
     "execution_count": 6,
     "metadata": {},
     "output_type": "execute_result"
    }
   ],
   "source": [
    "len(t)"
   ]
  },
  {
   "cell_type": "code",
   "execution_count": 7,
   "metadata": {},
   "outputs": [
    {
     "name": "stderr",
     "output_type": "stream",
     "text": [
      "/home/gray/anaconda3/lib/python3.7/site-packages/SPARQLWrapper/Wrapper.py:967: RuntimeWarning: Sending Accept header '*/*' because unexpected returned format 'n3' in a 'SELECT' SPARQL query form\n",
      "  warnings.warn(\"Sending Accept header '*/*' because unexpected returned format '%s' in a '%s' SPARQL query form\" % (self.returnFormat, self.queryType), RuntimeWarning)\n"
     ]
    },
    {
     "data": {
      "text/plain": [
       "<Graph identifier=Nb4b8f2fa98a347dfb2eb4f60a08de56b (<class 'rdflib.graph.Graph'>)>"
      ]
     },
     "execution_count": 7,
     "metadata": {},
     "output_type": "execute_result"
    }
   ],
   "source": [
    "sparql = SPARQLWrapper('https://dbpedia.org/sparql')\n",
    "sparql.setQuery('''\n",
    "    select ?linkedEntities \n",
    "    WHERE { \n",
    "    dbr:Neymar dbo:wikiPageWikiLink \n",
    "    ?linkedEntities \n",
    "    .}\n",
    "''')\n",
    "sparql.setReturnFormat(N3)\n",
    "queries = sparql.query().convert()\n",
    "\n",
    "g = Graph()\n",
    "g.parse(data=queries, format='n3')\n",
    "# print(g.serialize(format='ttl').decode('u8'))"
   ]
  },
  {
   "cell_type": "code",
   "execution_count": 8,
   "metadata": {},
   "outputs": [],
   "source": [
    "from openie import StanfordOpenIE\n",
    "import wikipedia"
   ]
  },
  {
   "cell_type": "markdown",
   "metadata": {},
   "source": [
    "Will try getting some text from wikipedia about Neymar and use a openie for seeing the relation"
   ]
  },
  {
   "cell_type": "code",
   "execution_count": 20,
   "metadata": {},
   "outputs": [],
   "source": [
    "text = wikipedia.page(\"Neymar (Player)\").content[:50000]"
   ]
  },
  {
   "cell_type": "code",
   "execution_count": 21,
   "metadata": {},
   "outputs": [
    {
     "name": "stdout",
     "output_type": "stream",
     "text": [
      "Starting server with command: java -Xmx8G -cp /home/gray/.stanfordnlp_resources/stanford-corenlp-4.1.0/* edu.stanford.nlp.pipeline.StanfordCoreNLPServer -port 9000 -timeout 60000 -threads 5 -maxCharLength 100000 -quiet True -serverProperties corenlp_server-6bd8d9879e8845d1.props -preload openie\n",
      "#######################################################\n",
      "{'subject': 'Neymar', 'relation': 'joined', 'object': 'Santos FC'}\n",
      "#######################################################\n",
      "#######################################################\n",
      "{'subject': 'Neymar', 'relation': 'met', 'object': 'Paulo Henrique Ganso'}\n",
      "#######################################################\n",
      "#######################################################\n",
      "{'subject': 'Neymar', 'relation': 'aged came behind', 'object': \"Andrés D'Alessandro\"}\n",
      "#######################################################\n",
      "#######################################################\n",
      "{'subject': 'Neymar', 'relation': 'came third behind', 'object': \"Andrés D'Alessandro\"}\n",
      "#######################################################\n",
      "#######################################################\n",
      "{'subject': 'Neymar', 'relation': 'came behind', 'object': \"Andrés D'Alessandro\"}\n",
      "#######################################################\n",
      "#######################################################\n",
      "{'subject': 'Neymar', 'relation': 'aged came third behind', 'object': \"Andrés D'Alessandro\"}\n",
      "#######################################################\n",
      "#######################################################\n",
      "{'subject': 'Neymar', 'relation': 'finished', 'object': '2012 Campeonato Paulista'}\n",
      "#######################################################\n",
      "#######################################################\n",
      "{'subject': 'Neymar', 'relation': 'leave before', 'object': '2014 FIFA World Cup'}\n",
      "#######################################################\n",
      "#######################################################\n",
      "{'subject': 'Neymar', 'relation': 'was presented record turnout at', 'object': 'Camp Nou'}\n",
      "#######################################################\n",
      "#######################################################\n",
      "{'subject': 'Neymar', 'relation': 'miss', 'object': '2015 UEFA Super Cup'}\n",
      "#######################################################\n",
      "#######################################################\n",
      "{'subject': 'Neymar', 'relation': 'was shortlisted for', 'object': \"2015 FIFA Ballon d'Or\"}\n",
      "#######################################################\n",
      "#######################################################\n",
      "{'subject': 'Neymar', 'relation': 'scored in', 'object': '2017 Copa del Rey Final'}\n",
      "#######################################################\n",
      "#######################################################\n",
      "{'subject': 'Neymar', 'relation': 'scored in', 'object': '2019 Coupe de France Final'}\n",
      "#######################################################\n",
      "#######################################################\n",
      "{'subject': 'Neymar', 'relation': 'was named for', 'object': '2014 FIFA World Cup'}\n",
      "#######################################################\n",
      "#######################################################\n",
      "{'subject': 'Neymar', 'relation': 'was kneed by', 'object': 'Juan Camilo Zúñiga'}\n",
      "#######################################################\n",
      "#######################################################\n",
      "{'subject': 'Neymar', 'relation': 'came like', 'object': 'Pelé'}\n",
      "#######################################################\n"
     ]
    }
   ],
   "source": [
    "count = 0\n",
    "x = []\n",
    "with StanfordOpenIE() as client:\n",
    "    for triple in client.annotate(text):\n",
    "        count +=  1\n",
    "        if triple['subject']=='Neymar':\n",
    "            ob = triple['object'].split(' ')\n",
    "            ob2 = ob[0]\n",
    "            c = 0\n",
    "            for kk in ob:\n",
    "                if c==0:\n",
    "                    c+=1\n",
    "                    continue\n",
    "                \n",
    "                c+=1\n",
    "                ob2 += '_'+kk\n",
    "            \n",
    "            if ob2 in e2:\n",
    "                print(\"#######################################################\")\n",
    "                print(triple)\n",
    "                print(\"#######################################################\")\n",
    "            \n",
    "        x.append(triple)"
   ]
  },
  {
   "cell_type": "markdown",
   "metadata": {},
   "source": [
    "#### So we went through an extract of 50000 chaaracters due to session limit and my hardware limitations\n",
    "\n",
    "And somewhat entities from the list from SPARQL queries were obtained in these 50000 characters."
   ]
  },
  {
   "cell_type": "code",
   "execution_count": 22,
   "metadata": {},
   "outputs": [
    {
     "name": "stdout",
     "output_type": "stream",
     "text": [
      "['2013_FIFA_Confederations_Cup', '2013_FIFA_Confederations_Cup_Final', '2013_Santos_FC_season', '2013_Supercopa_de_España', '2013–14_FC_Barcelona_season', '2013–14_La_Liga', '2013–14_UEFA_Champions_League', '2013–14_UEFA_Champions_League_group_stage', '2014_FIFA_World_Cup', '2014_FIFA_World_Cup_awards', '2014_FIFA_World_Cup_knockout_stage', '2014–15_Copa_del_Rey', '2014–15_FC_Barcelona_season', '2014–15_La_Liga', '2014–15_UEFA_Champions_League', '2015_Copa_América', '2015_Copa_del_Rey_Final', '2015_FIFA_Club_World_Cup', '2015_Supercopa_de_España', '2015_UEFA_Champions_League_Final', '2015_UEFA_Super_Cup', '2015–16_Copa_del_Rey', '2015–16_FC_Barcelona_season', '2015–16_La_Liga', '2015–16_UEFA_Champions_League', '2016_Copa_del_Rey_Final', '2016_Summer_Olympics', '2016–17_Copa_del_Rey', '2016–17_FC_Barcelona_season', '2016–17_UEFA_Champions_League', '2016–17_UEFA_Champions_League_knockout_phase', '2017_Copa_del_Rey_Final', '2017–18_Coupe_de_France', '2017–18_Coupe_de_la_Ligue', '2017–18_Ligue_1', '2017–18_Paris_Saint-Germain_F.C._season', '2017–18_UEFA_Champions_League_group_stage', 'Category:2011_Copa_América_players', 'Category:2013_FIFA_Confederations_Cup_players', 'Category:2014_FIFA_World_Cup_players', 'Category:2015_Copa_América_players', 'Category:2018_FIFA_World_Cup_players', 'Luis_Enrique', 'Luis_Suárez', 'Luiz_Felipe_Scolari', 'Luka_Modrić', 'MC_Guimê', 'Madrid', 'Unilever', \"United_States_men's_national_soccer_team\", 'União_Agrícola_Barbarense_Futebol_Clube', 'Usain_Bolt', 'Venezuela_national_football_team', 'DIS_Esporte', 'Hat-trick', \"Football_at_the_2016_Summer_Olympics_–_Men's_team_squads\", \"Forbes'_list_of_the_world's_highest-paid_athletes\", 'Prêmio_Craque_do_Brasileirão', 'UNFP_Player_of_the_Month', 'List_of_most-followed_Instagram_accounts', 'Category:African-Brazilian_sportspeople', 'Borussia_Dortmund', 'Botafogo_Futebol_Clube_(SP)', 'Brazil_national_football_team', 'Brazil_national_under-17_football_team', 'Brazil_national_under-20_football_team', 'Brazil_national_under-23_football_team', 'Brazil_v_Germany_(2014_FIFA_World_Cup)', 'Brazilian_Football_Confederation', 'Brazilian_real', 'Category:La_Liga_players', 'Category:Ligue_1_players', 'Category:Medalists_at_the_2012_Summer_Olympics', 'Category:Medalists_at_the_2016_Summer_Olympics', 'Category:Olympic_medalists_in_football', 'Deportivo_Alavés', 'Didier_Drogba', 'Diego_(footballer,_born_1985)', 'Diego_Maradona', 'Goiânia', 'Granada_CF', 'Great_Britain_Olympic_football_team', 'Guarani_FC', 'Guaratinguetá_Futebol', 'Konami', 'Krestovsky_Stadium', 'Pro_Evolution_Soccer_2012', 'Pro_Evolution_Soccer_2013', 'Puma_(brand)', 'Qatar', 'Qatar_national_football_team', 'RB_Leipzig', 'RC_Lens', 'RC_Strasbourg_Alsace', 'Rajamangala_Stadium', 'Overtime_(sports)', 'Youth_system', 'Placar', 'Category:1992_births', 'Category:Living_people', 'Alex_(footballer,_born_1982)', 'Alexandre_Pato', 'Alexis_Sánchez', 'Allianz_Arena', '2010_South_American_Footballer_of_the_Year', '2011_South_American_Footballer_of_the_Year', '2012_South_American_Footballer_of_the_Year', '2012_Summer_Olympics', '2013_Campeonato_Paulista', 'Celtic_F.C.', 'Chelsea_F.C.', \"Football_at_the_2012_Summer_Olympics_–_Men's_tournament\", \"Football_at_the_2016_Summer_Olympics_–_Men's_tournament\", 'Football_at_the_Summer_Olympics', 'Nike,_Inc.', 'Nike_Hypervenom', 'O_Globo', 'Oeste_Futebol_Clube', 'FIFA_(video_game_series)', 'Fouls_and_misconduct_(association_football)', 'South_American_Footballer_of_the_Year', 'FIFA_Puskás_Award', 'Rainbow_kick', 'Viral_video', 'Fifth_metatarsal_bone', 'Futsal', 'Category:Campeonato_Brasileiro_Série_A_players', 'Austria_national_football_team', 'BBC', 'BBC_Sport', 'Balada_(song)', 'Banco_Santander', 'List_of_most_expensive_association_football_transfers', 'Free_kick_(association_football)', 'List_of_2014_FIFA_World_Cup_controversies', 'Cameroon_national_football_team', 'Camp_Nou', 'Campeonato_Brasileiro_Série_A', 'Carlos_Bacca', 'Category:Olympic_gold_medalists_for_Brazil', 'Category:Olympic_silver_medalists_for_Brazil', 'Chile_national_football_team', 'China_national_football_team', 'Christianity', 'Claro_(company)', 'Clodoaldo', 'Clube_de_Regatas_do_Flamengo', 'Category:People_from_Mogi_das_Cruzes', 'Category:South_American_Youth_Championship_players', 'Gareth_Bale', 'Gerard_Piqué', 'Gisele_Bündchen', 'Jesus', 'Johannesburg', 'National_Union_of_Professional_Footballers', 'La_Liga_Awards', 'Beats_Electronics', 'Belarus_national_under-23_football_team', 'Belgium_national_football_team', 'Belo_Horizonte', 'Bicycle_kick', 'Category:Footballers_at_the_2012_Summer_Olympics', 'Category:Footballers_at_the_2016_Summer_Olympics', 'Kaká', 'Kashiwa_Reysol', 'Lechia_Gdańsk', 'Levante_UD', 'Ligue_1', 'Lionel_Messi', 'List_of_Spanish_football_champions', 'Temuco', 'Zico_(footballer)', 'Zinedine_Zidane', 'Álvaro_González_(footballer,_born_1990)', 'Ángel_Di_María', 'İstanbul_Başakşehir_F.K.', 'Estádio_Serra_Dourada', 'Música_sertaneja', 'Sponsor_(commercial)', 'International_Federation_of_Football_History_&_Statistics', 'Sibling_relationship', '2006–07_UEFA_Champions_League', '2009_Santos_FC_season', '2010_Campeonato_Brasileiro_Série_A', '2010_Copa_do_Brasil', '2010_FIFA_World_Cup', '2010_Santos_FC_season', '2011_Campeonato_Brasileiro_Série_A', '2011_Campeonato_Paulista', '2011_Copa_América', '2011_Copa_América_Group_B', '2011_Copa_Libertadores', '2011_Copa_Libertadores_Finals', '2011_FIFA_Club_World_Cup', '2011_Santos_FC_season', '2011_South_American_U-20_Championship', '2012_Campeonato_Brasileiro_Série_A', '2012_Campeonato_Paulista', '2012_Campeonato_Paulista_knockout_stage', '2012_Copa_Libertadores', '2012_Recopa_Sudamericana', '2012_Santos_FC_season', '2012_Superclásico_de_las_Américas', 'Michel_Teló', 'Midfielder', 'Miroslav_Stoch', 'Mogi_Mirim_Esporte_Clube', 'Mogi_das_Cruzes', 'Cerro_Porteño', 'Changing_room', 'Ligue_de_Football_Professionnel', 'Music_video', 'France_Football', '2018_FIFA_World_Cup', '2018_Trophée_des_Champions', '2018–19_Ligue_1', '2018–19_Paris_Saint-Germain_F.C._season', '2018–19_UEFA_Champions_League', '2019_Copa_América', '2019_Coupe_de_France_Final', '2019–20_Coupe_de_France', '2019–20_Coupe_de_la_Ligue', '2019–20_Ligue_1', '2019–20_Paris_Saint-Germain_F.C._season', '2019–20_UEFA_Champions_League', '2019–20_UEFA_Champions_League_group_stage', '2019–20_UEFA_Champions_League_knockout_phase', '2020_Coupe_de_France_Final', '2020_Coupe_de_la_Ligue_Final', '2020_UEFA_Champions_League_Final', '2020–21_Paris_Saint-Germain_F.C._season', '2022_FIFA_World_Cup_qualification_(CONMEBOL)', \"2015_FIFA_Ballon_d'Or\", 'Away_goals_rule', 'Social_media', 'Sociedade_Esportiva_Palmeiras', 'South_Africa_national_football_team', 'South_American_Youth_Football_Championship', 'Spain_national_football_team', 'Sport_Club_Corinthians_Paulista', 'Sport_Club_Internacional', 'Category:Brazil_international_footballers', 'Category:Brazil_under-20_international_footballers', 'Category:Brazil_youth_international_footballers', 'Category:Brazilian_Christians', 'Category:Brazilian_expatriate_footballers', 'Category:Brazilian_expatriate_sportspeople_in_France', 'Category:Brazilian_expatriate_sportspeople_in_Spain', 'Category:Brazilian_footballers', 'Category:Brazilian_people_of_European_descent', 'Dorival_Júnior', 'Double_(association_football)', 'Douglas_Costa', 'Dunga', 'EA_Sports', 'ESPN', 'East_Rutherford,_New_Jersey', 'Ecuador_national_football_team', 'Edinson_Cavani', 'Edu_Dracena', 'Forbes', 'France_national_football_team', 'Fred_(footballer,_born_1983)', 'Gusttavo_Lima', 'Honduras_national_under-23_football_team', 'Ibiza', 'Italy_national_football_team', 'Japan_national_football_team', 'Javier_Pastore', 'Sandro_(footballer,_born_1989)', 'Sandro_Rosell', 'Santiago', 'Santiago_Bernabéu_Stadium', 'Santos,_São_Paulo', 'Santos_FC', 'Scotland_national_football_team', 'Scottish_Football_Association', 'Senegal_national_football_team', 'Forward_(association_football)', 'Goal_celebration', 'Tax_evasion', 'Squad_number_(association_football)', 'Category:Association_football_forwards', 'Category:Association_football_wingers', 'Category:Associação_Atlética_Portuguesa_(Santos)_players', '2009_Campeonato_Paulista', '2010_Campeonato_Paulista', 'Ambev', 'Andoni_Iraola', 'André_Santos', \"Andrés_D'Alessandro\", 'Andrés_Iniesta', 'Anfield', 'Angers_SCO', 'Antônio_Wilson_Vieira_Honório', 'Argentina', 'Association_football', 'Association_football_tactics_and_skills', 'Associação_Atlética_Ponte_Preta', 'Associação_Atlética_Portuguesa_(Santos)', 'Atalanta_B.C.', 'Athletic_Bilbao', 'Atlético_Clube_Goianiense', 'Atlético_Madrid', 'Old_Trafford', 'Olympiastadion_(Berlin)', 'Olympique_Lyonnais', 'Olympique_de_Marseille', 'Oscar_(footballer,_born_1991)', 'Pablo_Armero', 'Panama_national_football_team', 'Panasonic', 'Buyout_clause', 'Rayo_Vallecano', 'Raí', 'Real_Madrid_CF', 'Real_Sociedad', 'Recife', 'Recopa_Sudamericana', 'Red_Star_Belgrade', 'The_Best_FIFA_Football_Awards_2017', 'The_Daily_Telegraph', 'Samba_Gold', 'AFC_Ajax', 'AS_Monaco_FC', 'AS_Saint-Étienne', 'Ai_Se_Eu_Te_Pego', 'Bobby_Ghosh', 'Bola_de_Ouro', 'Toulouse_FC', 'Toyota,_Aichi', 'Toyota_Stadium', 'Trophée_des_Champions', 'Trophées_UNFP_du_football', 'UEFA_Champions_League', 'UEFA_Team_of_the_Year', 'Dribbling', 'Treble_(association_football)', \"L'Équipe\", 'Street_football', 'Category:Expatriate_footballers_in_France', 'Category:Expatriate_footballers_in_Spain', 'Category:FC_Barcelona_players', 'Category:FIFA_Century_Club', 'Category:FIFA_Confederations_Cup-winning_players', 'CONMEBOL', 'COVID-19_pandemic', 'Cadena_SER', 'Category:Olympic_footballers_of_Brazil', 'Category:Paris_Saint-Germain_F.C._players', 'Category:Santos_FC_players', 'Category:UEFA_Champions_League_winning_players', 'Colombia_Olympic_football_team', 'Colombia_national_football_team', 'Confederation_of_African_Football', 'Copa_América_Centenario', 'Copa_Libertadores', 'Copa_del_Rey', 'Copa_do_Brasil', 'Coronavirus_disease_2019', 'Costa_Rica_national_football_team', 'Cristiano_Ronaldo', 'Croatia', 'Croatia_national_football_team', 'Cruzeiro_Esporte_Clube', 'Kylian_Mbappé', 'La_Liga', 'Le_Classique', 'Leandro_Damião', 'Leandro_Paredes', 'La_Liga_Player_of_the_Month', \"List_of_men's_footballers_with_100_or_more_international_caps\", \"List_of_men's_footballers_with_50_or_more_international_goals\", 'Dani_Alves', 'David_Beckham', 'David_Luiz', 'Assist_(association_football)', 'Paraguay_national_football_team', 'Parc_Olympique_Lyonnais', 'Paris_Saint-Germain_F.C.', 'Paulo_Henrique_Ganso', 'Pedro_(footballer,_born_1987)', 'Pelé', 'Penalty_kick_(association_football)', 'Pentecostalism', 'Pepe_(footballer,_born_1935)', 'Peru_national_football_team', 'Campeonato_Paulista', 'Riverside_Stadium', 'Roberto_Carlos', 'Roberto_Firmino', 'Robinho', 'Rogério_Micale', 'Romário', 'Ronaldinho', 'Ronaldo_(Brazilian_footballer)', 'Rory_McIlroy', 'Sergi_Roberto', 'Sevilla_FC', 'São_Bernardo_Futebol_Clube', 'São_Paulo', 'São_Paulo_(state)', 'São_Paulo_FC', 'São_Vicente,_São_Paulo', 'Coupe_de_France', 'Coupe_de_la_Ligue', 'Vicente_Calderón_Stadium', 'Victor_Andrade', 'Villarreal_CF', 'Vogue_(magazine)', 'Volkswagen', 'List_of_UEFA_Champions_League_hat-tricks', 'List_of_association_football_teams_to_have_won_four_or_more_trophies_in_one_season', 'Estádio_Nacional_Mané_Garrincha', 'Estádio_do_Arruda', 'Eu_Quero_Tchu,_Eu_Quero_Tcha', \"European_Champion_Clubs'_Cup\", 'European_Sports_Media', 'FC_Barcelona', 'FC_Barcelona_6–1_Paris_Saint-Germain_F.C.', 'FC_Bayern_Munich', 'FC_Girondins_de_Bordeaux', 'FIFA', 'FIFA_18', 'FIFA_19', \"FIFA_Ballon_d'Or\", 'FIFA_Club_World_Cup', 'FIFA_Confederations_Cup', 'FIFA_Confederations_Cup_records_and_statistics', 'FIFA_World_Cup_awards', 'FIFPro', 'Felipe_Anderson', 'Nasser_Al-Khelaifi', 'National_Stadium,_Singapore', 'Nenê_(footballer,_born_1981)', 'Peñarol', 'Portuguese_language', 'Pound_sterling', 'Premier_League', \"St_James'_Park\", 'Stade_Malherbe_Caen', 'Wayne_Rooney', 'Wembley_Stadium', 'West_Ham_United_F.C.', 'Westfalenstadion', 'Diving_(association_football)', 'Dummy_(football)', 'FIFA_World_Cup_Dream_Team', 'Spinal_fracture', 'Ebola', 'Ejection_(sports)', 'El_Clásico', 'FIFA_Club_World_Cup_awards', 'Ligue_1_Player_of_the_Year', 'Egypt_national_under-23_football_team', 'Elano', 'Elche_CF', 'Emirates_Stadium', 'En_Avant_Guingamp', 'Eric_Cantona', 'Esporte_Clube_Santo_André', 'Hiroki_Sakai', 'Money_Heist', \"Monica's_Gang\", 'Montevideo', 'Mumps', 'Jorge_Valdano', 'Josep_Maria_Bartomeu', 'João_Lucas_&_Marcelo', 'Juan_Bernat', 'Juan_Camilo_Zúñiga', 'Juan_Sebastián_Verón', 'Jundiaí', 'Juventus_F.C.', 'Jô', 'Matías_Alustiza', 'Mauricio_de_Sousa', 'Max_Meyer_(footballer)', 'Mexico_national_football_team', 'Mexico_national_under-23_football_team', 'Keepie_uppie', 'List_of_Paris_Saint-Germain_F.C._records_and_statistics', 'Manchester_United_F.C.', 'Mano_Menezes', 'Maracanã_Stadium', 'Thiago_Silva', 'Thibaut_Courtois', 'Thierry_Henry', 'Tim_Vickery', 'Time_(magazine)', 'Time_100', 'Tite_(football_manager)', 'Tithe', 'World_Soccer_(magazine)', 'XXX:_Return_of_Xander_Cage', 'Xavi', 'Penalty_shoot-out_(association_football)', 'Platonic_love', 'Playmaker', 'Supercopa_de_España', 'SportsPro', 'File:ECUADOR_vs_BRASIL_(29392285815)_(cropped).jpg', 'File:Messi_with_Neymar_Junior_the_Future_of_Brazil.jpg', 'File:Barcelona_fans_-_Champions_league_2015_Berlin.JPG', 'File:Bra-Cos_(13).jpg', 'File:Edgar_Ié_vs_Neymar.jpg', 'File:Neymar_vs_Lille.jpg', 'File:Neymargoldenball.jpg', 'File:Brasil_conquista_primeiro_ouro_olímpico_no_futebol_1039247-20082016-_mg_3424.jpg', 'File:Brasil_conquista_primeiro_ouro_olímpico_nos_penaltis_1039248-20082016-_mg_0015cropped.jpg', 'File:Brazil_at_the_2012_Olympics.jpg', 'File:Neymar.jpg', 'File:Neymar_(cropped).jpg', 'File:Neymar_2011.jpg', 'File:Neymar_Junior_the_Future_of_Brazil_2.jpg', 'File:Neymar_visiting_Red_Bull_Arena_(cropped).jpg', 'File:Neymar_Barcelona_presentation_1.jpg', 'File:Pique&neymar.jpg', 'File:André_Santos,_Neymar_and_Ramires_celebrate_Neymars_goal.jpg']\n"
     ]
    }
   ],
   "source": [
    "print(e2)"
   ]
  },
  {
   "cell_type": "code",
   "execution_count": null,
   "metadata": {},
   "outputs": [],
   "source": []
  }
 ],
 "metadata": {
  "kernelspec": {
   "display_name": "Python 3",
   "language": "python",
   "name": "python3"
  },
  "language_info": {
   "codemirror_mode": {
    "name": "ipython",
    "version": 3
   },
   "file_extension": ".py",
   "mimetype": "text/x-python",
   "name": "python",
   "nbconvert_exporter": "python",
   "pygments_lexer": "ipython3",
   "version": "3.7.6"
  }
 },
 "nbformat": 4,
 "nbformat_minor": 4
}
