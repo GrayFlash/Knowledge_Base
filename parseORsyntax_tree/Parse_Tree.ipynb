{
 "cells": [
  {
   "cell_type": "code",
   "execution_count": 4,
   "metadata": {},
   "outputs": [],
   "source": [
    "import nltk\n",
    "from nltk import pos_tag, word_tokenize, RegexpParser"
   ]
  },
  {
   "cell_type": "code",
   "execution_count": 11,
   "metadata": {},
   "outputs": [
    {
     "name": "stdout",
     "output_type": "stream",
     "text": [
      "[('I', 'PRP'), ('have', 'VBP'), ('been', 'VBN'), ('walking', 'VBG'), ('alone', 'RB'), ('for', 'IN'), ('so', 'RB'), ('long', 'JJ')]\n"
     ]
    }
   ],
   "source": [
    "#Example text\n",
    "sample_text = \"I have been walking alone for so long\"\n",
    "\n",
    "# Find all parts of speech in above sentence \n",
    "tagged = pos_tag(word_tokenize(sample_text)) \n",
    "print(tagged)"
   ]
  },
  {
   "cell_type": "code",
   "execution_count": 8,
   "metadata": {},
   "outputs": [
    {
     "name": "stdout",
     "output_type": "stream",
     "text": [
      "After Extracting\n",
      " (S\n",
      "  I/PRP\n",
      "  (VP (V have/VBP))\n",
      "  (VP (V been/VBN))\n",
      "  (VP (V walking/VBG))\n",
      "  alone/RB\n",
      "  (P for/IN)\n",
      "  so/RB\n",
      "  long/JJ)\n"
     ]
    }
   ],
   "source": [
    "#Extract all parts of speech from any text \n",
    "chunker = RegexpParser(\"\"\" \n",
    "                       NP: {<DT>?<JJ>*<NN>}    #To extract Noun Phrases \n",
    "                       P: {<IN>}               #To extract Prepositions \n",
    "                       V: {<V.*>}              #To extract Verbs \n",
    "                       PP: {<P> <NP>}          #To extract Prepostional Phrases \n",
    "                       VP: {<V> <NP|PP>*}      #To extarct Verb Phrases \n",
    "                       \"\"\") \n",
    "  \n",
    "# Print all parts of speech in above sentence \n",
    "output = chunker.parse(tagged) \n",
    "print(\"After Extracting\\n\", output) "
   ]
  },
  {
   "cell_type": "code",
   "execution_count": null,
   "metadata": {},
   "outputs": [],
   "source": []
  }
 ],
 "metadata": {
  "kernelspec": {
   "display_name": "Python 3",
   "language": "python",
   "name": "python3"
  },
  "language_info": {
   "codemirror_mode": {
    "name": "ipython",
    "version": 3
   },
   "file_extension": ".py",
   "mimetype": "text/x-python",
   "name": "python",
   "nbconvert_exporter": "python",
   "pygments_lexer": "ipython3",
   "version": "3.7.6"
  }
 },
 "nbformat": 4,
 "nbformat_minor": 4
}
